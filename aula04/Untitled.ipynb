{
 "cells": [
  {
   "cell_type": "code",
   "execution_count": 11,
   "id": "3196e644-bc5e-4e90-887b-efa81cc6defb",
   "metadata": {},
   "outputs": [],
   "source": [
    "def pesquisa_binaria(v, lista_ord):\n",
    "    # Inicializar as variáveis\n",
    "    esquerda = 0\n",
    "    direita = len(lista_ord) - 1\n",
    "    \n",
    "    # Loop de repetição\n",
    "    while esquerda <= direita:\n",
    "        # Encontrar o meio e verificar\n",
    "        meio = (esquerda + direita) // 2\n",
    "        if v == lista_ord[meio]:\n",
    "            return meio  # Retorna o índice onde o valor foi encontrado\n",
    "        elif v < lista_ord[meio]:\n",
    "            direita = meio - 1  # O valor está à esquerda\n",
    "        else:\n",
    "            esquerda = meio + 1  # O valor está à direita\n",
    "    \n",
    "    # Caso não seja encontrado\n",
    "    return -1\n",
    "\n",
    "        \n",
    "\n",
    "\n"
   ]
  },
  {
   "cell_type": "code",
   "execution_count": 13,
   "id": "6b9141ba-e956-4088-915b-a44812b5688b",
   "metadata": {},
   "outputs": [
    {
     "name": "stdin",
     "output_type": "stream",
     "text": [
      "Digite um valor:  7\n"
     ]
    },
    {
     "name": "stdout",
     "output_type": "stream",
     "text": [
      "O valor 7 existe na lista e está na posição 2\n"
     ]
    }
   ],
   "source": [
    "\n",
    "# Lista de valores\n",
    "l = [1, 4, 7, 9, 10, 12, 23, 56, 78, 90]\n",
    "\n",
    "# Solicitar entrada do usuário\n",
    "v = int(input(\"Digite um valor: \"))\n",
    "\n",
    "# Chamar a função de pesquisa binária\n",
    "i = pesquisa_binaria(v, l)\n",
    "\n",
    "# Verificar o resultado\n",
    "if i == -1:\n",
    "    print('O valor não existe na lista')\n",
    "else:\n",
    "    print(f\"O valor {v} existe na lista e está na posição {i}\")"
   ]
  },
  {
   "cell_type": "code",
   "execution_count": null,
   "id": "653e14c3-87be-4dbc-a055-5e2e06701eab",
   "metadata": {},
   "outputs": [],
   "source": []
  }
 ],
 "metadata": {
  "kernelspec": {
   "display_name": "Python [conda env:base] *",
   "language": "python",
   "name": "conda-base-py"
  },
  "language_info": {
   "codemirror_mode": {
    "name": "ipython",
    "version": 3
   },
   "file_extension": ".py",
   "mimetype": "text/x-python",
   "name": "python",
   "nbconvert_exporter": "python",
   "pygments_lexer": "ipython3",
   "version": "3.12.7"
  }
 },
 "nbformat": 4,
 "nbformat_minor": 5
}
