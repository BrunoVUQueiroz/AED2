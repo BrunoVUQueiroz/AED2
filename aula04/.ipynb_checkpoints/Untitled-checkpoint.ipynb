{
 "cells": [
  {
   "cell_type": "code",
   "execution_count": null,
   "id": "3196e644-bc5e-4e90-887b-efa81cc6defb",
   "metadata": {},
   "outputs": [],
   "source": [
    "#pesquisa binária em uma lista ordenada\n",
    "\n",
    "#Assinatura\n",
    "def pesquisa_binaria(v, lista_ord):\n",
    "    #Inicializar as variáveis\n",
    "    esquerda = 0\n",
    "    direita = len(lista_ord) -1\n",
    "#Loop de repetição\n",
    "    while v <== direita:\n",
    "#Encontrar meio e verificação\n",
    "        meio = (esquerda + direita) // 2\n",
    "        if v == lista_ord[meio]:\n",
    "            return meio\n",
    "        elif v < list_ord[meio]:\n",
    "            lista_ord -1\n",
    "        else:\n",
    "            lista_ord +1\n",
    "    return -1\n",
    "        \n",
    "#caso não encontrado\n",
    "\n"
   ]
  }
 ],
 "metadata": {
  "kernelspec": {
   "display_name": "Python [conda env:base] *",
   "language": "python",
   "name": "conda-base-py"
  },
  "language_info": {
   "codemirror_mode": {
    "name": "ipython",
    "version": 3
   },
   "file_extension": ".py",
   "mimetype": "text/x-python",
   "name": "python",
   "nbconvert_exporter": "python",
   "pygments_lexer": "ipython3",
   "version": "3.12.7"
  }
 },
 "nbformat": 4,
 "nbformat_minor": 5
}
